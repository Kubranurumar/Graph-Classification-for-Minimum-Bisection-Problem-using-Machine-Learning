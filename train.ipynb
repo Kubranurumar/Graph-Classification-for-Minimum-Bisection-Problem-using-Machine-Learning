{
  "cells": [
    {
      "cell_type": "code",
      "execution_count": null,
      "metadata": {
        "id": "np47jHlL7HHf"
      },
      "outputs": [],
      "source": [
        "import numpy as np\n",
        "import pandas as pd\n",
        "import seaborn as sns\n",
        "from joblib import dump\n",
        "import xgboost as xgb\n",
        "import matplotlib.pyplot as plt\n",
        "from scipy.stats import randint\n",
        "from sklearn.model_selection import train_test_split\n",
        "from sklearn.model_selection import GridSearchCV\n",
        "from sklearn.ensemble import RandomForestClassifier\n",
        "from sklearn.model_selection import RandomizedSearchCV\n",
        "from sklearn.metrics import confusion_matrix, classification_report, r2_score, precision_score, recall_score, accuracy_score, make_scorer"
      ]
    },
    {
      "cell_type": "code",
      "source": [
        "from google.colab import drive\n",
        "drive.mount('/content/drive')"
      ],
      "metadata": {
        "colab": {
          "base_uri": "https://localhost:8080/"
        },
        "id": "RZIcFzw07Nzu",
        "outputId": "b67478ad-a6eb-4562-c837-ca792e82d4a1"
      },
      "execution_count": null,
      "outputs": [
        {
          "output_type": "stream",
          "name": "stdout",
          "text": [
            "Drive already mounted at /content/drive; to attempt to forcibly remount, call drive.mount(\"/content/drive\", force_remount=True).\n"
          ]
        }
      ]
    },
    {
      "cell_type": "code",
      "execution_count": null,
      "metadata": {
        "id": "5JjBH2Rz7HHi"
      },
      "outputs": [],
      "source": [
        "df_n2v = pd.read_excel(\"/content/drive/MyDrive/Colab Notebooks/n2v_whole_data.xlsx\")\n",
        "#print(df)"
      ]
    },
    {
      "cell_type": "code",
      "execution_count": null,
      "metadata": {
        "colab": {
          "base_uri": "https://localhost:8080/",
          "height": 255
        },
        "id": "_MFqZNFH7HHi",
        "outputId": "6f433f9b-d4ec-4146-908e-64a0b177ae2b"
      },
      "outputs": [
        {
          "output_type": "execute_result",
          "data": {
            "text/plain": [
              "          0         1         2         3         4         5         6  \\\n",
              "0  0.185664  0.038381  0.088199  0.060264  0.059804  0.029930  0.024279   \n",
              "1  0.240407  0.083226  0.092082  0.072697  0.083744  0.053693  0.046664   \n",
              "2  0.255905 -0.056426 -0.041874 -0.068825 -0.024977 -0.026380 -0.002083   \n",
              "3  0.136404 -0.072341  0.013134  0.007694  0.058358  0.035262  0.058339   \n",
              "4  0.326345 -0.069603  0.096670 -0.029981 -0.057323 -0.149889 -0.123073   \n",
              "\n",
              "         10        15        19  ...        37        38        57        58  \\\n",
              "0  0.005061 -0.030970 -0.018356  ... -0.016635 -0.021995 -0.003927 -0.007916   \n",
              "1  0.017592  0.002981 -0.011767  ... -0.003653 -0.006539  0.002449 -0.000369   \n",
              "2  0.022709 -0.016479 -0.005985  ... -0.017954 -0.023319 -0.026269 -0.029155   \n",
              "3 -0.015095 -0.052562 -0.017020  ... -0.018606 -0.015528  0.003666  0.004405   \n",
              "4 -0.080844 -0.073645 -0.079760  ... -0.013255 -0.025324 -0.015458 -0.010203   \n",
              "\n",
              "         59        60        61        62        63  label  \n",
              "0 -0.004296 -0.011041 -0.011489 -0.010767 -0.012662      1  \n",
              "1  0.002300 -0.000759  0.001286  0.000648 -0.002569      1  \n",
              "2 -0.026701 -0.031623 -0.031910 -0.032459 -0.029607      1  \n",
              "3  0.006000 -0.000561  0.003274  0.002714  0.002069      1  \n",
              "4 -0.004443 -0.008781 -0.008274 -0.009391 -0.006729      1  \n",
              "\n",
              "[5 rows x 30 columns]"
            ],
            "text/html": [
              "\n",
              "  <div id=\"df-6d0d9038-1323-4627-b6a2-c88e02bbc5ad\" class=\"colab-df-container\">\n",
              "    <div>\n",
              "<style scoped>\n",
              "    .dataframe tbody tr th:only-of-type {\n",
              "        vertical-align: middle;\n",
              "    }\n",
              "\n",
              "    .dataframe tbody tr th {\n",
              "        vertical-align: top;\n",
              "    }\n",
              "\n",
              "    .dataframe thead th {\n",
              "        text-align: right;\n",
              "    }\n",
              "</style>\n",
              "<table border=\"1\" class=\"dataframe\">\n",
              "  <thead>\n",
              "    <tr style=\"text-align: right;\">\n",
              "      <th></th>\n",
              "      <th>0</th>\n",
              "      <th>1</th>\n",
              "      <th>2</th>\n",
              "      <th>3</th>\n",
              "      <th>4</th>\n",
              "      <th>5</th>\n",
              "      <th>6</th>\n",
              "      <th>10</th>\n",
              "      <th>15</th>\n",
              "      <th>19</th>\n",
              "      <th>...</th>\n",
              "      <th>37</th>\n",
              "      <th>38</th>\n",
              "      <th>57</th>\n",
              "      <th>58</th>\n",
              "      <th>59</th>\n",
              "      <th>60</th>\n",
              "      <th>61</th>\n",
              "      <th>62</th>\n",
              "      <th>63</th>\n",
              "      <th>label</th>\n",
              "    </tr>\n",
              "  </thead>\n",
              "  <tbody>\n",
              "    <tr>\n",
              "      <th>0</th>\n",
              "      <td>0.185664</td>\n",
              "      <td>0.038381</td>\n",
              "      <td>0.088199</td>\n",
              "      <td>0.060264</td>\n",
              "      <td>0.059804</td>\n",
              "      <td>0.029930</td>\n",
              "      <td>0.024279</td>\n",
              "      <td>0.005061</td>\n",
              "      <td>-0.030970</td>\n",
              "      <td>-0.018356</td>\n",
              "      <td>...</td>\n",
              "      <td>-0.016635</td>\n",
              "      <td>-0.021995</td>\n",
              "      <td>-0.003927</td>\n",
              "      <td>-0.007916</td>\n",
              "      <td>-0.004296</td>\n",
              "      <td>-0.011041</td>\n",
              "      <td>-0.011489</td>\n",
              "      <td>-0.010767</td>\n",
              "      <td>-0.012662</td>\n",
              "      <td>1</td>\n",
              "    </tr>\n",
              "    <tr>\n",
              "      <th>1</th>\n",
              "      <td>0.240407</td>\n",
              "      <td>0.083226</td>\n",
              "      <td>0.092082</td>\n",
              "      <td>0.072697</td>\n",
              "      <td>0.083744</td>\n",
              "      <td>0.053693</td>\n",
              "      <td>0.046664</td>\n",
              "      <td>0.017592</td>\n",
              "      <td>0.002981</td>\n",
              "      <td>-0.011767</td>\n",
              "      <td>...</td>\n",
              "      <td>-0.003653</td>\n",
              "      <td>-0.006539</td>\n",
              "      <td>0.002449</td>\n",
              "      <td>-0.000369</td>\n",
              "      <td>0.002300</td>\n",
              "      <td>-0.000759</td>\n",
              "      <td>0.001286</td>\n",
              "      <td>0.000648</td>\n",
              "      <td>-0.002569</td>\n",
              "      <td>1</td>\n",
              "    </tr>\n",
              "    <tr>\n",
              "      <th>2</th>\n",
              "      <td>0.255905</td>\n",
              "      <td>-0.056426</td>\n",
              "      <td>-0.041874</td>\n",
              "      <td>-0.068825</td>\n",
              "      <td>-0.024977</td>\n",
              "      <td>-0.026380</td>\n",
              "      <td>-0.002083</td>\n",
              "      <td>0.022709</td>\n",
              "      <td>-0.016479</td>\n",
              "      <td>-0.005985</td>\n",
              "      <td>...</td>\n",
              "      <td>-0.017954</td>\n",
              "      <td>-0.023319</td>\n",
              "      <td>-0.026269</td>\n",
              "      <td>-0.029155</td>\n",
              "      <td>-0.026701</td>\n",
              "      <td>-0.031623</td>\n",
              "      <td>-0.031910</td>\n",
              "      <td>-0.032459</td>\n",
              "      <td>-0.029607</td>\n",
              "      <td>1</td>\n",
              "    </tr>\n",
              "    <tr>\n",
              "      <th>3</th>\n",
              "      <td>0.136404</td>\n",
              "      <td>-0.072341</td>\n",
              "      <td>0.013134</td>\n",
              "      <td>0.007694</td>\n",
              "      <td>0.058358</td>\n",
              "      <td>0.035262</td>\n",
              "      <td>0.058339</td>\n",
              "      <td>-0.015095</td>\n",
              "      <td>-0.052562</td>\n",
              "      <td>-0.017020</td>\n",
              "      <td>...</td>\n",
              "      <td>-0.018606</td>\n",
              "      <td>-0.015528</td>\n",
              "      <td>0.003666</td>\n",
              "      <td>0.004405</td>\n",
              "      <td>0.006000</td>\n",
              "      <td>-0.000561</td>\n",
              "      <td>0.003274</td>\n",
              "      <td>0.002714</td>\n",
              "      <td>0.002069</td>\n",
              "      <td>1</td>\n",
              "    </tr>\n",
              "    <tr>\n",
              "      <th>4</th>\n",
              "      <td>0.326345</td>\n",
              "      <td>-0.069603</td>\n",
              "      <td>0.096670</td>\n",
              "      <td>-0.029981</td>\n",
              "      <td>-0.057323</td>\n",
              "      <td>-0.149889</td>\n",
              "      <td>-0.123073</td>\n",
              "      <td>-0.080844</td>\n",
              "      <td>-0.073645</td>\n",
              "      <td>-0.079760</td>\n",
              "      <td>...</td>\n",
              "      <td>-0.013255</td>\n",
              "      <td>-0.025324</td>\n",
              "      <td>-0.015458</td>\n",
              "      <td>-0.010203</td>\n",
              "      <td>-0.004443</td>\n",
              "      <td>-0.008781</td>\n",
              "      <td>-0.008274</td>\n",
              "      <td>-0.009391</td>\n",
              "      <td>-0.006729</td>\n",
              "      <td>1</td>\n",
              "    </tr>\n",
              "  </tbody>\n",
              "</table>\n",
              "<p>5 rows × 30 columns</p>\n",
              "</div>\n",
              "    <div class=\"colab-df-buttons\">\n",
              "\n",
              "  <div class=\"colab-df-container\">\n",
              "    <button class=\"colab-df-convert\" onclick=\"convertToInteractive('df-6d0d9038-1323-4627-b6a2-c88e02bbc5ad')\"\n",
              "            title=\"Convert this dataframe to an interactive table.\"\n",
              "            style=\"display:none;\">\n",
              "\n",
              "  <svg xmlns=\"http://www.w3.org/2000/svg\" height=\"24px\" viewBox=\"0 -960 960 960\">\n",
              "    <path d=\"M120-120v-720h720v720H120Zm60-500h600v-160H180v160Zm220 220h160v-160H400v160Zm0 220h160v-160H400v160ZM180-400h160v-160H180v160Zm440 0h160v-160H620v160ZM180-180h160v-160H180v160Zm440 0h160v-160H620v160Z\"/>\n",
              "  </svg>\n",
              "    </button>\n",
              "\n",
              "  <style>\n",
              "    .colab-df-container {\n",
              "      display:flex;\n",
              "      gap: 12px;\n",
              "    }\n",
              "\n",
              "    .colab-df-convert {\n",
              "      background-color: #E8F0FE;\n",
              "      border: none;\n",
              "      border-radius: 50%;\n",
              "      cursor: pointer;\n",
              "      display: none;\n",
              "      fill: #1967D2;\n",
              "      height: 32px;\n",
              "      padding: 0 0 0 0;\n",
              "      width: 32px;\n",
              "    }\n",
              "\n",
              "    .colab-df-convert:hover {\n",
              "      background-color: #E2EBFA;\n",
              "      box-shadow: 0px 1px 2px rgba(60, 64, 67, 0.3), 0px 1px 3px 1px rgba(60, 64, 67, 0.15);\n",
              "      fill: #174EA6;\n",
              "    }\n",
              "\n",
              "    .colab-df-buttons div {\n",
              "      margin-bottom: 4px;\n",
              "    }\n",
              "\n",
              "    [theme=dark] .colab-df-convert {\n",
              "      background-color: #3B4455;\n",
              "      fill: #D2E3FC;\n",
              "    }\n",
              "\n",
              "    [theme=dark] .colab-df-convert:hover {\n",
              "      background-color: #434B5C;\n",
              "      box-shadow: 0px 1px 3px 1px rgba(0, 0, 0, 0.15);\n",
              "      filter: drop-shadow(0px 1px 2px rgba(0, 0, 0, 0.3));\n",
              "      fill: #FFFFFF;\n",
              "    }\n",
              "  </style>\n",
              "\n",
              "    <script>\n",
              "      const buttonEl =\n",
              "        document.querySelector('#df-6d0d9038-1323-4627-b6a2-c88e02bbc5ad button.colab-df-convert');\n",
              "      buttonEl.style.display =\n",
              "        google.colab.kernel.accessAllowed ? 'block' : 'none';\n",
              "\n",
              "      async function convertToInteractive(key) {\n",
              "        const element = document.querySelector('#df-6d0d9038-1323-4627-b6a2-c88e02bbc5ad');\n",
              "        const dataTable =\n",
              "          await google.colab.kernel.invokeFunction('convertToInteractive',\n",
              "                                                    [key], {});\n",
              "        if (!dataTable) return;\n",
              "\n",
              "        const docLinkHtml = 'Like what you see? Visit the ' +\n",
              "          '<a target=\"_blank\" href=https://colab.research.google.com/notebooks/data_table.ipynb>data table notebook</a>'\n",
              "          + ' to learn more about interactive tables.';\n",
              "        element.innerHTML = '';\n",
              "        dataTable['output_type'] = 'display_data';\n",
              "        await google.colab.output.renderOutput(dataTable, element);\n",
              "        const docLink = document.createElement('div');\n",
              "        docLink.innerHTML = docLinkHtml;\n",
              "        element.appendChild(docLink);\n",
              "      }\n",
              "    </script>\n",
              "  </div>\n",
              "\n",
              "\n",
              "<div id=\"df-c5b0b60d-b158-4833-a413-6187e84a438e\">\n",
              "  <button class=\"colab-df-quickchart\" onclick=\"quickchart('df-c5b0b60d-b158-4833-a413-6187e84a438e')\"\n",
              "            title=\"Suggest charts\"\n",
              "            style=\"display:none;\">\n",
              "\n",
              "<svg xmlns=\"http://www.w3.org/2000/svg\" height=\"24px\"viewBox=\"0 0 24 24\"\n",
              "     width=\"24px\">\n",
              "    <g>\n",
              "        <path d=\"M19 3H5c-1.1 0-2 .9-2 2v14c0 1.1.9 2 2 2h14c1.1 0 2-.9 2-2V5c0-1.1-.9-2-2-2zM9 17H7v-7h2v7zm4 0h-2V7h2v10zm4 0h-2v-4h2v4z\"/>\n",
              "    </g>\n",
              "</svg>\n",
              "  </button>\n",
              "\n",
              "<style>\n",
              "  .colab-df-quickchart {\n",
              "      --bg-color: #E8F0FE;\n",
              "      --fill-color: #1967D2;\n",
              "      --hover-bg-color: #E2EBFA;\n",
              "      --hover-fill-color: #174EA6;\n",
              "      --disabled-fill-color: #AAA;\n",
              "      --disabled-bg-color: #DDD;\n",
              "  }\n",
              "\n",
              "  [theme=dark] .colab-df-quickchart {\n",
              "      --bg-color: #3B4455;\n",
              "      --fill-color: #D2E3FC;\n",
              "      --hover-bg-color: #434B5C;\n",
              "      --hover-fill-color: #FFFFFF;\n",
              "      --disabled-bg-color: #3B4455;\n",
              "      --disabled-fill-color: #666;\n",
              "  }\n",
              "\n",
              "  .colab-df-quickchart {\n",
              "    background-color: var(--bg-color);\n",
              "    border: none;\n",
              "    border-radius: 50%;\n",
              "    cursor: pointer;\n",
              "    display: none;\n",
              "    fill: var(--fill-color);\n",
              "    height: 32px;\n",
              "    padding: 0;\n",
              "    width: 32px;\n",
              "  }\n",
              "\n",
              "  .colab-df-quickchart:hover {\n",
              "    background-color: var(--hover-bg-color);\n",
              "    box-shadow: 0 1px 2px rgba(60, 64, 67, 0.3), 0 1px 3px 1px rgba(60, 64, 67, 0.15);\n",
              "    fill: var(--button-hover-fill-color);\n",
              "  }\n",
              "\n",
              "  .colab-df-quickchart-complete:disabled,\n",
              "  .colab-df-quickchart-complete:disabled:hover {\n",
              "    background-color: var(--disabled-bg-color);\n",
              "    fill: var(--disabled-fill-color);\n",
              "    box-shadow: none;\n",
              "  }\n",
              "\n",
              "  .colab-df-spinner {\n",
              "    border: 2px solid var(--fill-color);\n",
              "    border-color: transparent;\n",
              "    border-bottom-color: var(--fill-color);\n",
              "    animation:\n",
              "      spin 1s steps(1) infinite;\n",
              "  }\n",
              "\n",
              "  @keyframes spin {\n",
              "    0% {\n",
              "      border-color: transparent;\n",
              "      border-bottom-color: var(--fill-color);\n",
              "      border-left-color: var(--fill-color);\n",
              "    }\n",
              "    20% {\n",
              "      border-color: transparent;\n",
              "      border-left-color: var(--fill-color);\n",
              "      border-top-color: var(--fill-color);\n",
              "    }\n",
              "    30% {\n",
              "      border-color: transparent;\n",
              "      border-left-color: var(--fill-color);\n",
              "      border-top-color: var(--fill-color);\n",
              "      border-right-color: var(--fill-color);\n",
              "    }\n",
              "    40% {\n",
              "      border-color: transparent;\n",
              "      border-right-color: var(--fill-color);\n",
              "      border-top-color: var(--fill-color);\n",
              "    }\n",
              "    60% {\n",
              "      border-color: transparent;\n",
              "      border-right-color: var(--fill-color);\n",
              "    }\n",
              "    80% {\n",
              "      border-color: transparent;\n",
              "      border-right-color: var(--fill-color);\n",
              "      border-bottom-color: var(--fill-color);\n",
              "    }\n",
              "    90% {\n",
              "      border-color: transparent;\n",
              "      border-bottom-color: var(--fill-color);\n",
              "    }\n",
              "  }\n",
              "</style>\n",
              "\n",
              "  <script>\n",
              "    async function quickchart(key) {\n",
              "      const quickchartButtonEl =\n",
              "        document.querySelector('#' + key + ' button');\n",
              "      quickchartButtonEl.disabled = true;  // To prevent multiple clicks.\n",
              "      quickchartButtonEl.classList.add('colab-df-spinner');\n",
              "      try {\n",
              "        const charts = await google.colab.kernel.invokeFunction(\n",
              "            'suggestCharts', [key], {});\n",
              "      } catch (error) {\n",
              "        console.error('Error during call to suggestCharts:', error);\n",
              "      }\n",
              "      quickchartButtonEl.classList.remove('colab-df-spinner');\n",
              "      quickchartButtonEl.classList.add('colab-df-quickchart-complete');\n",
              "    }\n",
              "    (() => {\n",
              "      let quickchartButtonEl =\n",
              "        document.querySelector('#df-c5b0b60d-b158-4833-a413-6187e84a438e button');\n",
              "      quickchartButtonEl.style.display =\n",
              "        google.colab.kernel.accessAllowed ? 'block' : 'none';\n",
              "    })();\n",
              "  </script>\n",
              "</div>\n",
              "\n",
              "    </div>\n",
              "  </div>\n"
            ]
          },
          "metadata": {},
          "execution_count": 12
        }
      ],
      "source": [
        "columns_to_drop = [7, 8, 9, 11, 12, 13, 14, 16, 17, 18, 27, 28, 29, 30, 31, 32, 35, 39, 40, 41, 42, 43, 44, 45, 46, 47, 48, 49, 50, 51, 52, 53, 54, 55, 56]\n",
        "df_n2v_extracted = df_n2v.drop(columns=columns_to_drop)\n",
        "df_n2v_extracted.head()"
      ]
    },
    {
      "cell_type": "code",
      "execution_count": null,
      "metadata": {
        "colab": {
          "base_uri": "https://localhost:8080/"
        },
        "id": "NjYdKGkw7HHi",
        "outputId": "8f2efeff-37ae-4144-8102-555c8b060bbe"
      },
      "outputs": [
        {
          "output_type": "execute_result",
          "data": {
            "text/plain": [
              "1    388\n",
              "0    296\n",
              "Name: label, dtype: int64"
            ]
          },
          "metadata": {},
          "execution_count": 13
        }
      ],
      "source": [
        "df_n2v_extracted[\"label\"].value_counts()"
      ]
    },
    {
      "cell_type": "code",
      "execution_count": null,
      "metadata": {
        "id": "wl0YqQZe7HHj"
      },
      "outputs": [],
      "source": [
        "X = df_n2v_extracted.iloc[:, :-1]\n",
        "y = df_n2v_extracted.iloc[:, -1]"
      ]
    },
    {
      "cell_type": "code",
      "execution_count": null,
      "metadata": {
        "colab": {
          "base_uri": "https://localhost:8080/"
        },
        "id": "V0GX4DCj7HHj",
        "outputId": "cda99035-efbf-4279-a56c-a31947f6bab1"
      },
      "outputs": [
        {
          "output_type": "stream",
          "name": "stdout",
          "text": [
            "(684, 29)\n",
            "(684,)\n"
          ]
        }
      ],
      "source": [
        "print(X.shape)\n",
        "print(y.shape)"
      ]
    },
    {
      "cell_type": "code",
      "execution_count": null,
      "metadata": {
        "id": "xcEy4woe7HHj"
      },
      "outputs": [],
      "source": [
        "# Let's split the data into training and test sets\n",
        "X_train, X_test, y_train, y_test = train_test_split(X, y, test_size=0.2, random_state=42)\n",
        "xgb_model = xgb.XGBClassifier()\n"
      ]
    },
    {
      "cell_type": "code",
      "execution_count": null,
      "metadata": {
        "id": "xGqH7Ltf7HHk"
      },
      "outputs": [],
      "source": [
        "def custom_scorer(y_true, y_pred):\n",
        "    precision = precision_score(y_true, y_pred)\n",
        "    recall = recall_score(y_true, y_pred)\n",
        "    accuracy = accuracy_score(y_true, y_pred)\n",
        "\n",
        "    # You can generate a composite score by combining these metrics with a desired formula\n",
        "    combined_score = (precision + recall + accuracy) / 3\n",
        "\n",
        "    return combined_score\n",
        "\n",
        "# Transform the custom scoring function into a scoring function using 'make_scorer'\n",
        "custom_score = make_scorer(custom_scorer, greater_is_better=True)"
      ]
    },
    {
      "cell_type": "code",
      "execution_count": null,
      "metadata": {
        "id": "g-wMGPc77HHk"
      },
      "outputs": [],
      "source": [
        "# GridSearchCV için parametre aralıkları\n",
        "param_grid = {\n",
        "    'learning_rate': [0.01, 0.1, 0.2],\n",
        "    'n_estimators': [100, 200, 300],\n",
        "    'max_depth': [3, 5, 7],\n",
        "    'min_child_weight': [1, 3, 5],\n",
        "    'subsample': [0.8, 0.9, 1.0],\n",
        "    'colsample_bytree': [0.8, 0.9, 1.0]\n",
        "}\n",
        "\n",
        "# GridSearchCV ile hiperparametre optimizasyonu\n",
        "grid_search = GridSearchCV(estimator=xgb_model, param_grid=param_grid, scoring='accuracy', cv=3)\n",
        "grid_search.fit(X_train, y_train)\n",
        "\n",
        "# Retrieve the best parameters and model\n",
        "best_params = grid_search.best_params_\n",
        "best_model = grid_search.best_estimator_\n",
        "best_score = grid_search.best_score_"
      ]
    },
    {
      "cell_type": "code",
      "execution_count": null,
      "metadata": {
        "colab": {
          "base_uri": "https://localhost:8080/"
        },
        "id": "TNSDWnrK7HHl",
        "outputId": "6b7823db-7023-4d42-8bf3-bfad67109107"
      },
      "outputs": [
        {
          "output_type": "stream",
          "name": "stdout",
          "text": [
            "Best grid search hyperparameters are: {'colsample_bytree': 0.8, 'learning_rate': 0.1, 'max_depth': 7, 'min_child_weight': 1, 'n_estimators': 200, 'subsample': 1.0}\n",
            "Best grid search model is: XGBClassifier(base_score=None, booster=None, callbacks=None,\n",
            "              colsample_bylevel=None, colsample_bynode=None,\n",
            "              colsample_bytree=0.8, device=None, early_stopping_rounds=None,\n",
            "              enable_categorical=False, eval_metric=None, feature_types=None,\n",
            "              gamma=None, grow_policy=None, importance_type=None,\n",
            "              interaction_constraints=None, learning_rate=0.1, max_bin=None,\n",
            "              max_cat_threshold=None, max_cat_to_onehot=None,\n",
            "              max_delta_step=None, max_depth=7, max_leaves=None,\n",
            "              min_child_weight=1, missing=nan, monotone_constraints=None,\n",
            "              multi_strategy=None, n_estimators=200, n_jobs=None,\n",
            "              num_parallel_tree=None, random_state=None, ...)\n",
            "Best grid search score is: 0.784293120358694\n"
          ]
        }
      ],
      "source": [
        "# Print the best parameters and the model to the screen\n",
        "print(\"Best grid search hyperparameters are:\", best_params)\n",
        "print(\"Best grid search model is:\", best_model)\n",
        "print(\"Best grid search score is:\", best_score)"
      ]
    },
    {
      "cell_type": "code",
      "execution_count": null,
      "metadata": {
        "id": "eT88p71p7HHl"
      },
      "outputs": [],
      "source": [
        "y_pred_grid = best_model.predict(X_test)\n",
        "#confusion_matrix(y_test, y_pred_grid)"
      ]
    },
    {
      "cell_type": "code",
      "execution_count": null,
      "metadata": {
        "colab": {
          "base_uri": "https://localhost:8080/"
        },
        "id": "Iwtrqpcv7HHl",
        "outputId": "ed2f2971-c91e-459a-8ef2-89b08a0f2e70"
      },
      "outputs": [
        {
          "output_type": "stream",
          "name": "stdout",
          "text": [
            "Accuracy score is:  0.7737226277372263\n",
            "              precision    recall  f1-score   support\n",
            "\n",
            "           0       0.70      0.76      0.73        55\n",
            "           1       0.83      0.78      0.81        82\n",
            "\n",
            "    accuracy                           0.77       137\n",
            "   macro avg       0.77      0.77      0.77       137\n",
            "weighted avg       0.78      0.77      0.78       137\n",
            "\n"
          ]
        }
      ],
      "source": [
        "acc_grid = accuracy_score(y_test, y_pred_grid)\n",
        "print('Accuracy score is: ', acc_grid)\n",
        "cl_report = classification_report(y_pred_grid, y_test)\n",
        "print(cl_report)"
      ]
    },
    {
      "cell_type": "code",
      "execution_count": null,
      "metadata": {
        "colab": {
          "base_uri": "https://localhost:8080/"
        },
        "id": "laoOal5v7HHm",
        "outputId": "e8975b08-6eff-4e16-d0f7-d848ab87225d"
      },
      "outputs": [
        {
          "output_type": "execute_result",
          "data": {
            "text/plain": [
              "['xgb_model_gridsearchCV.sav']"
            ]
          },
          "metadata": {},
          "execution_count": 22
        }
      ],
      "source": [
        "# model adınıza ve model değişkeninize uygun isimleri verin\n",
        "model_adı = \"xgb_model_gridsearchCV\"\n",
        "model_değişkeni = best_model\n",
        "\n",
        "# Modeli kaydet\n",
        "dump(model_değişkeni, f\"{model_adı}.sav\")"
      ]
    },
    {
      "cell_type": "code",
      "execution_count": null,
      "metadata": {
        "id": "9NIUwJOW7HHm"
      },
      "outputs": [],
      "source": [
        "# RandomizedSearchCV için parametre aralıkları\n",
        "param_dist = {\n",
        "    'learning_rate': [0.01, 0.1, 0.2],\n",
        "    'n_estimators': [100, 200, 300],\n",
        "    'max_depth': [3, 5, 7],\n",
        "    'min_child_weight': [1, 3, 5],\n",
        "    'subsample': [0.8, 0.9, 1.0],\n",
        "    'colsample_bytree': [0.8, 0.9, 1.0]\n",
        "}"
      ]
    },
    {
      "cell_type": "code",
      "execution_count": null,
      "metadata": {
        "id": "kITHFFJj7HHn"
      },
      "outputs": [],
      "source": [
        "xgb2 = xgb.XGBClassifier()\n",
        "# RandomizedSearchCV ile hiperparametre optimizasyonu\n",
        "random_search = RandomizedSearchCV(estimator=xgb2, param_distributions=param_dist, scoring='accuracy', n_iter=10, cv=3, random_state=42)\n",
        "model_random=random_search.fit(X_train, y_train)"
      ]
    },
    {
      "cell_type": "code",
      "execution_count": null,
      "metadata": {
        "colab": {
          "base_uri": "https://localhost:8080/"
        },
        "id": "sn-NTDXY7HHn",
        "outputId": "29692640-ad01-41f8-bea9-cc0d8d84bf5b"
      },
      "outputs": [
        {
          "output_type": "stream",
          "name": "stdout",
          "text": [
            "Best random search hyperparameters are: {'subsample': 0.8, 'n_estimators': 100, 'min_child_weight': 1, 'max_depth': 3, 'learning_rate': 0.1, 'colsample_bytree': 0.8}\n",
            "Best grid search model is: XGBClassifier(base_score=None, booster=None, callbacks=None,\n",
            "              colsample_bylevel=None, colsample_bynode=None,\n",
            "              colsample_bytree=0.8, device=None, early_stopping_rounds=None,\n",
            "              enable_categorical=False, eval_metric=None, feature_types=None,\n",
            "              gamma=None, grow_policy=None, importance_type=None,\n",
            "              interaction_constraints=None, learning_rate=0.1, max_bin=None,\n",
            "              max_cat_threshold=None, max_cat_to_onehot=None,\n",
            "              max_delta_step=None, max_depth=3, max_leaves=None,\n",
            "              min_child_weight=1, missing=nan, monotone_constraints=None,\n",
            "              multi_strategy=None, n_estimators=100, n_jobs=None,\n",
            "              num_parallel_tree=None, random_state=None, ...)\n",
            "Best random search score is: 0.7751456194079145\n"
          ]
        }
      ],
      "source": [
        "# random forest random search results\n",
        "print('Best random search hyperparameters are: '+str(model_random.best_params_))\n",
        "print('Best grid search model is: ' +str(model_random.best_estimator_))\n",
        "print('Best random search score is: '+str(model_random.best_score_))"
      ]
    },
    {
      "cell_type": "code",
      "execution_count": null,
      "metadata": {
        "id": "GBdvc-Qm7HHn"
      },
      "outputs": [],
      "source": [
        "y_pred_randomized = model_random.predict(X_test)\n",
        "#confusion_matrix(y_test, y_pred_randomized)"
      ]
    },
    {
      "cell_type": "code",
      "execution_count": null,
      "metadata": {
        "colab": {
          "base_uri": "https://localhost:8080/"
        },
        "id": "UqtmnYLJ7HHn",
        "outputId": "6bad2d15-e4ec-4716-deb6-6cb4842494a8"
      },
      "outputs": [
        {
          "output_type": "stream",
          "name": "stdout",
          "text": [
            "Accuracy score is:  0.7591240875912408\n",
            "              precision    recall  f1-score   support\n",
            "\n",
            "           0       0.68      0.75      0.71        55\n",
            "           1       0.82      0.77      0.79        82\n",
            "\n",
            "    accuracy                           0.76       137\n",
            "   macro avg       0.75      0.76      0.75       137\n",
            "weighted avg       0.76      0.76      0.76       137\n",
            "\n"
          ]
        }
      ],
      "source": [
        "acc_randomized = accuracy_score(y_test, y_pred_randomized)\n",
        "print('Accuracy score is: ', acc_randomized)\n",
        "print(classification_report(y_pred_randomized, y_test))"
      ]
    },
    {
      "cell_type": "code",
      "execution_count": null,
      "metadata": {
        "colab": {
          "base_uri": "https://localhost:8080/"
        },
        "id": "MsCyHS137HHo",
        "outputId": "084f7f10-309e-4071-9cce-076353f7cd28"
      },
      "outputs": [
        {
          "output_type": "execute_result",
          "data": {
            "text/plain": [
              "['xgb_model_rs.sav']"
            ]
          },
          "metadata": {},
          "execution_count": 28
        }
      ],
      "source": [
        "# Give appropriate names to your model and model variables\n",
        "model_adı = \"xgb_model_rs\"\n",
        "model_değişkeni = model_random\n",
        "\n",
        "# Save the model\n",
        "dump(model_değişkeni, f\"{model_adı}.sav\")"
      ]
    },
    {
      "cell_type": "code",
      "execution_count": null,
      "metadata": {
        "id": "eZKi6DdT7HHo"
      },
      "outputs": [],
      "source": []
    },
    {
      "cell_type": "code",
      "execution_count": null,
      "metadata": {
        "id": "dKKraZlw7HHo"
      },
      "outputs": [],
      "source": []
    },
    {
      "cell_type": "code",
      "execution_count": null,
      "metadata": {
        "id": "3qEm90b57HHo"
      },
      "outputs": [],
      "source": []
    }
  ],
  "metadata": {
    "kernelspec": {
      "display_name": "Python 3 (ipykernel)",
      "language": "python",
      "name": "python3"
    },
    "language_info": {
      "codemirror_mode": {
        "name": "ipython",
        "version": 3
      },
      "file_extension": ".py",
      "mimetype": "text/x-python",
      "name": "python",
      "nbconvert_exporter": "python",
      "pygments_lexer": "ipython3",
      "version": "3.9.18"
    },
    "colab": {
      "provenance": []
    }
  },
  "nbformat": 4,
  "nbformat_minor": 0
}